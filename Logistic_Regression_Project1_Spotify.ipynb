{
 "cells": [
  {
   "cell_type": "markdown",
   "id": "c0d4d615",
   "metadata": {},
   "source": [
    "# **---- PREDICTION OF EMOTION OF SPOTIFY SONGS ----**\n",
    "   ##### { WHETHER THE SONG IS SAD SONG OR HAPPY / ENERGETIC SONG }"
   ]
  },
  {
   "cell_type": "markdown",
   "id": "76f7f304",
   "metadata": {},
   "source": [
    "Labels: {'sad': 0, 'happy': 1, 'energetic': 2, 'calm': 3}# we wll select only 2 i.e sad & happy\n",
    "\n",
    "Acousticness: A confidence measure from 0.0 to 1.0 of whether the track is acoustic. 1.0 represents high confidence the track is acoustic.\n",
    "\n",
    "Danceability: Danceability describes how suitable a track is for dancing based on a combination of musical elements including tempo, rhythm stability, beat strength, and overall regularity. A value of 0.0 is least danceable and 1.0 is most danceable.\n",
    "\n",
    "Energy: Energy is a measure from 0.0 to 1.0 and represents a perceptual measure of intensity and activity. \n",
    "\n",
    "Instrumentalness: Predicts whether a track contains no vocals. “Ooh” and “aah” sounds are treated as instrumental in this context. Rap or spoken word tracks are clearly “vocal”. The closer the instrumentalness value is to 1.0, the greater likelihood the track contains no vocal content. Values above 0.5 are intended to represent instrumental tracks, but confidence is higher as the value approaches 1.0.\n",
    "\n",
    "Liveness: Detects the presence of an audience in the recording. Higher liveness values represent an increased probability that the track was performed live. A value above 0.8 provides a strong likelihood that the track is live.\n",
    "\n",
    "Loudness: the overall loudness of a track in decibels (dB).Loudness is the quality of a sound that is the primary psychological correlate of physical strength (amplitude). Values typically range between -60 and 0 db.\n",
    "\n",
    "Speechiness: Speechiness detects the presence of spoken words in a track. (e.g. talk show, audiobook, poetry).Values above 0.66 describe tracks that are probably made entirely of spoken words. Values between 0.33 and 0.66 describe tracks that may contain both music and speech, either in sections or layered, including such cases as rap music. Values below 0.33 most likely represent music and other non-speech-like tracks.\n",
    "\n",
    "Valence: A measure from 0.0 to 1.0 describing the musical positiveness conveyed by a track. Tracks with high valence sound more positive (e.g. happy, cheerful, euphoric), while tracks with low valence sound more negative (e.g. sad, depressed, angry).\n",
    "\n",
    "Tempo: The overall estimated tempo of a track in beats per minute (BPM). In musical terminology, the tempo is the speed or pace of a given piece and derives directly from the average beat duration."
   ]
  },
  {
   "cell_type": "code",
   "execution_count": 1,
   "id": "a7dd8f6b",
   "metadata": {},
   "outputs": [],
   "source": [
    "import pandas as pd\n",
    "import numpy as np\n",
    "import matplotlib.pyplot as plt\n",
    "import seaborn as sns\n",
    "\n",
    "from sklearn.model_selection import train_test_split\n",
    "from sklearn.linear_model import LogisticRegression\n",
    "from sklearn.metrics import classification_report\n",
    "from sklearn.metrics import accuracy_score\n",
    "from sklearn.metrics import confusion_matrix\n",
    "from sklearn.preprocessing import StandardScaler"
   ]
  },
  {
   "cell_type": "code",
   "execution_count": 2,
   "id": "3f9ccffe",
   "metadata": {},
   "outputs": [
    {
     "data": {
      "text/html": [
       "<div>\n",
       "<style scoped>\n",
       "    .dataframe tbody tr th:only-of-type {\n",
       "        vertical-align: middle;\n",
       "    }\n",
       "\n",
       "    .dataframe tbody tr th {\n",
       "        vertical-align: top;\n",
       "    }\n",
       "\n",
       "    .dataframe thead th {\n",
       "        text-align: right;\n",
       "    }\n",
       "</style>\n",
       "<table border=\"1\" class=\"dataframe\">\n",
       "  <thead>\n",
       "    <tr style=\"text-align: right;\">\n",
       "      <th></th>\n",
       "      <th>duration (ms)</th>\n",
       "      <th>danceability</th>\n",
       "      <th>energy</th>\n",
       "      <th>loudness</th>\n",
       "      <th>speechiness</th>\n",
       "      <th>acousticness</th>\n",
       "      <th>instrumentalness</th>\n",
       "      <th>liveness</th>\n",
       "      <th>valence</th>\n",
       "      <th>tempo</th>\n",
       "      <th>spec_rate</th>\n",
       "      <th>labels</th>\n",
       "    </tr>\n",
       "  </thead>\n",
       "  <tbody>\n",
       "    <tr>\n",
       "      <th>0</th>\n",
       "      <td>195000</td>\n",
       "      <td>0.611</td>\n",
       "      <td>0.614</td>\n",
       "      <td>-8.815</td>\n",
       "      <td>0.0672</td>\n",
       "      <td>0.0169</td>\n",
       "      <td>0.000794</td>\n",
       "      <td>0.7530</td>\n",
       "      <td>0.520</td>\n",
       "      <td>128.050</td>\n",
       "      <td>3.450000e-07</td>\n",
       "      <td>2</td>\n",
       "    </tr>\n",
       "    <tr>\n",
       "      <th>1</th>\n",
       "      <td>194641</td>\n",
       "      <td>0.638</td>\n",
       "      <td>0.781</td>\n",
       "      <td>-6.848</td>\n",
       "      <td>0.0285</td>\n",
       "      <td>0.0118</td>\n",
       "      <td>0.009530</td>\n",
       "      <td>0.3490</td>\n",
       "      <td>0.250</td>\n",
       "      <td>122.985</td>\n",
       "      <td>1.460000e-07</td>\n",
       "      <td>1</td>\n",
       "    </tr>\n",
       "    <tr>\n",
       "      <th>2</th>\n",
       "      <td>217573</td>\n",
       "      <td>0.560</td>\n",
       "      <td>0.810</td>\n",
       "      <td>-8.029</td>\n",
       "      <td>0.0872</td>\n",
       "      <td>0.0071</td>\n",
       "      <td>0.000008</td>\n",
       "      <td>0.2410</td>\n",
       "      <td>0.247</td>\n",
       "      <td>170.044</td>\n",
       "      <td>4.010000e-07</td>\n",
       "      <td>1</td>\n",
       "    </tr>\n",
       "    <tr>\n",
       "      <th>3</th>\n",
       "      <td>443478</td>\n",
       "      <td>0.525</td>\n",
       "      <td>0.699</td>\n",
       "      <td>-4.571</td>\n",
       "      <td>0.0353</td>\n",
       "      <td>0.0178</td>\n",
       "      <td>0.000088</td>\n",
       "      <td>0.0888</td>\n",
       "      <td>0.199</td>\n",
       "      <td>92.011</td>\n",
       "      <td>7.960000e-08</td>\n",
       "      <td>0</td>\n",
       "    </tr>\n",
       "    <tr>\n",
       "      <th>4</th>\n",
       "      <td>225862</td>\n",
       "      <td>0.367</td>\n",
       "      <td>0.771</td>\n",
       "      <td>-5.863</td>\n",
       "      <td>0.1060</td>\n",
       "      <td>0.3650</td>\n",
       "      <td>0.000001</td>\n",
       "      <td>0.0965</td>\n",
       "      <td>0.163</td>\n",
       "      <td>115.917</td>\n",
       "      <td>4.690000e-07</td>\n",
       "      <td>1</td>\n",
       "    </tr>\n",
       "  </tbody>\n",
       "</table>\n",
       "</div>"
      ],
      "text/plain": [
       "   duration (ms)  danceability  energy  loudness  speechiness  acousticness   \n",
       "0         195000         0.611   0.614    -8.815       0.0672        0.0169  \\\n",
       "1         194641         0.638   0.781    -6.848       0.0285        0.0118   \n",
       "2         217573         0.560   0.810    -8.029       0.0872        0.0071   \n",
       "3         443478         0.525   0.699    -4.571       0.0353        0.0178   \n",
       "4         225862         0.367   0.771    -5.863       0.1060        0.3650   \n",
       "\n",
       "   instrumentalness  liveness  valence    tempo     spec_rate  labels  \n",
       "0          0.000794    0.7530    0.520  128.050  3.450000e-07       2  \n",
       "1          0.009530    0.3490    0.250  122.985  1.460000e-07       1  \n",
       "2          0.000008    0.2410    0.247  170.044  4.010000e-07       1  \n",
       "3          0.000088    0.0888    0.199   92.011  7.960000e-08       0  \n",
       "4          0.000001    0.0965    0.163  115.917  4.690000e-07       1  "
      ]
     },
     "execution_count": 2,
     "metadata": {},
     "output_type": "execute_result"
    }
   ],
   "source": [
    "df=pd.read_csv(\"D:\\Datasets for Practice\\spotify_label.csv\")\n",
    "df.head()"
   ]
  },
  {
   "cell_type": "code",
   "execution_count": 3,
   "id": "d009d416",
   "metadata": {},
   "outputs": [
    {
     "data": {
      "text/plain": [
       "(277938, 12)"
      ]
     },
     "execution_count": 3,
     "metadata": {},
     "output_type": "execute_result"
    }
   ],
   "source": [
    "df.shape"
   ]
  },
  {
   "cell_type": "code",
   "execution_count": 4,
   "id": "4f6bd72a",
   "metadata": {},
   "outputs": [
    {
     "name": "stdout",
     "output_type": "stream",
     "text": [
      "<class 'pandas.core.frame.DataFrame'>\n",
      "RangeIndex: 277938 entries, 0 to 277937\n",
      "Data columns (total 12 columns):\n",
      " #   Column            Non-Null Count   Dtype  \n",
      "---  ------            --------------   -----  \n",
      " 0   duration (ms)     277938 non-null  int64  \n",
      " 1   danceability      277938 non-null  float64\n",
      " 2   energy            277938 non-null  float64\n",
      " 3   loudness          277938 non-null  float64\n",
      " 4   speechiness       277938 non-null  float64\n",
      " 5   acousticness      277938 non-null  float64\n",
      " 6   instrumentalness  277938 non-null  float64\n",
      " 7   liveness          277938 non-null  float64\n",
      " 8   valence           277938 non-null  float64\n",
      " 9   tempo             277938 non-null  float64\n",
      " 10  spec_rate         277938 non-null  float64\n",
      " 11  labels            277938 non-null  int64  \n",
      "dtypes: float64(10), int64(2)\n",
      "memory usage: 25.4 MB\n"
     ]
    }
   ],
   "source": [
    "df.info()"
   ]
  },
  {
   "cell_type": "code",
   "execution_count": 5,
   "id": "264e6b11",
   "metadata": {},
   "outputs": [
    {
     "data": {
      "text/plain": [
       "duration (ms)       0\n",
       "danceability        0\n",
       "energy              0\n",
       "loudness            0\n",
       "speechiness         0\n",
       "acousticness        0\n",
       "instrumentalness    0\n",
       "liveness            0\n",
       "valence             0\n",
       "tempo               0\n",
       "spec_rate           0\n",
       "labels              0\n",
       "dtype: int64"
      ]
     },
     "execution_count": 5,
     "metadata": {},
     "output_type": "execute_result"
    }
   ],
   "source": [
    "df.isna().sum()"
   ]
  },
  {
   "cell_type": "code",
   "execution_count": 6,
   "id": "4f71c193",
   "metadata": {},
   "outputs": [
    {
     "data": {
      "text/html": [
       "<div>\n",
       "<style scoped>\n",
       "    .dataframe tbody tr th:only-of-type {\n",
       "        vertical-align: middle;\n",
       "    }\n",
       "\n",
       "    .dataframe tbody tr th {\n",
       "        vertical-align: top;\n",
       "    }\n",
       "\n",
       "    .dataframe thead th {\n",
       "        text-align: right;\n",
       "    }\n",
       "</style>\n",
       "<table border=\"1\" class=\"dataframe\">\n",
       "  <thead>\n",
       "    <tr style=\"text-align: right;\">\n",
       "      <th></th>\n",
       "      <th>duration (ms)</th>\n",
       "      <th>danceability</th>\n",
       "      <th>energy</th>\n",
       "      <th>loudness</th>\n",
       "      <th>speechiness</th>\n",
       "      <th>acousticness</th>\n",
       "      <th>instrumentalness</th>\n",
       "      <th>liveness</th>\n",
       "      <th>valence</th>\n",
       "      <th>tempo</th>\n",
       "      <th>spec_rate</th>\n",
       "      <th>labels</th>\n",
       "    </tr>\n",
       "  </thead>\n",
       "  <tbody>\n",
       "    <tr>\n",
       "      <th>count</th>\n",
       "      <td>2.779380e+05</td>\n",
       "      <td>277938.000000</td>\n",
       "      <td>277938.000000</td>\n",
       "      <td>277938.000000</td>\n",
       "      <td>277938.000000</td>\n",
       "      <td>277938.000000</td>\n",
       "      <td>277938.000000</td>\n",
       "      <td>277938.000000</td>\n",
       "      <td>277938.000000</td>\n",
       "      <td>277938.000000</td>\n",
       "      <td>2.779380e+05</td>\n",
       "      <td>277938.000000</td>\n",
       "    </tr>\n",
       "    <tr>\n",
       "      <th>mean</th>\n",
       "      <td>2.324961e+05</td>\n",
       "      <td>0.552583</td>\n",
       "      <td>0.556866</td>\n",
       "      <td>-10.363654</td>\n",
       "      <td>0.087913</td>\n",
       "      <td>0.386583</td>\n",
       "      <td>0.255044</td>\n",
       "      <td>0.189217</td>\n",
       "      <td>0.449602</td>\n",
       "      <td>119.196002</td>\n",
       "      <td>4.754688e-07</td>\n",
       "      <td>1.179101</td>\n",
       "    </tr>\n",
       "    <tr>\n",
       "      <th>std</th>\n",
       "      <td>1.171830e+05</td>\n",
       "      <td>0.188905</td>\n",
       "      <td>0.279681</td>\n",
       "      <td>6.672049</td>\n",
       "      <td>0.112500</td>\n",
       "      <td>0.364504</td>\n",
       "      <td>0.373745</td>\n",
       "      <td>0.163596</td>\n",
       "      <td>0.267471</td>\n",
       "      <td>30.462256</td>\n",
       "      <td>9.191077e-07</td>\n",
       "      <td>1.021033</td>\n",
       "    </tr>\n",
       "    <tr>\n",
       "      <th>min</th>\n",
       "      <td>6.706000e+03</td>\n",
       "      <td>0.000000</td>\n",
       "      <td>0.000000</td>\n",
       "      <td>-60.000000</td>\n",
       "      <td>0.000000</td>\n",
       "      <td>0.000000</td>\n",
       "      <td>0.000000</td>\n",
       "      <td>0.000000</td>\n",
       "      <td>0.000000</td>\n",
       "      <td>0.000000</td>\n",
       "      <td>0.000000e+00</td>\n",
       "      <td>0.000000</td>\n",
       "    </tr>\n",
       "    <tr>\n",
       "      <th>25%</th>\n",
       "      <td>1.720130e+05</td>\n",
       "      <td>0.431000</td>\n",
       "      <td>0.342000</td>\n",
       "      <td>-12.747000</td>\n",
       "      <td>0.035900</td>\n",
       "      <td>0.033800</td>\n",
       "      <td>0.000000</td>\n",
       "      <td>0.096200</td>\n",
       "      <td>0.220000</td>\n",
       "      <td>95.072250</td>\n",
       "      <td>1.530000e-07</td>\n",
       "      <td>0.000000</td>\n",
       "    </tr>\n",
       "    <tr>\n",
       "      <th>50%</th>\n",
       "      <td>2.131055e+05</td>\n",
       "      <td>0.571000</td>\n",
       "      <td>0.591000</td>\n",
       "      <td>-8.397000</td>\n",
       "      <td>0.047100</td>\n",
       "      <td>0.262000</td>\n",
       "      <td>0.001090</td>\n",
       "      <td>0.121000</td>\n",
       "      <td>0.434000</td>\n",
       "      <td>119.940000</td>\n",
       "      <td>2.350000e-07</td>\n",
       "      <td>1.000000</td>\n",
       "    </tr>\n",
       "    <tr>\n",
       "      <th>75%</th>\n",
       "      <td>2.648660e+05</td>\n",
       "      <td>0.693000</td>\n",
       "      <td>0.792000</td>\n",
       "      <td>-5.842000</td>\n",
       "      <td>0.082200</td>\n",
       "      <td>0.754000</td>\n",
       "      <td>0.645000</td>\n",
       "      <td>0.227000</td>\n",
       "      <td>0.665000</td>\n",
       "      <td>138.869750</td>\n",
       "      <td>4.450000e-07</td>\n",
       "      <td>2.000000</td>\n",
       "    </tr>\n",
       "    <tr>\n",
       "      <th>max</th>\n",
       "      <td>3.919895e+06</td>\n",
       "      <td>0.989000</td>\n",
       "      <td>1.000000</td>\n",
       "      <td>4.882000</td>\n",
       "      <td>0.965000</td>\n",
       "      <td>0.996000</td>\n",
       "      <td>1.000000</td>\n",
       "      <td>1.000000</td>\n",
       "      <td>1.000000</td>\n",
       "      <td>244.947000</td>\n",
       "      <td>5.970000e-05</td>\n",
       "      <td>3.000000</td>\n",
       "    </tr>\n",
       "  </tbody>\n",
       "</table>\n",
       "</div>"
      ],
      "text/plain": [
       "       duration (ms)   danceability         energy       loudness   \n",
       "count   2.779380e+05  277938.000000  277938.000000  277938.000000  \\\n",
       "mean    2.324961e+05       0.552583       0.556866     -10.363654   \n",
       "std     1.171830e+05       0.188905       0.279681       6.672049   \n",
       "min     6.706000e+03       0.000000       0.000000     -60.000000   \n",
       "25%     1.720130e+05       0.431000       0.342000     -12.747000   \n",
       "50%     2.131055e+05       0.571000       0.591000      -8.397000   \n",
       "75%     2.648660e+05       0.693000       0.792000      -5.842000   \n",
       "max     3.919895e+06       0.989000       1.000000       4.882000   \n",
       "\n",
       "         speechiness   acousticness  instrumentalness       liveness   \n",
       "count  277938.000000  277938.000000     277938.000000  277938.000000  \\\n",
       "mean        0.087913       0.386583          0.255044       0.189217   \n",
       "std         0.112500       0.364504          0.373745       0.163596   \n",
       "min         0.000000       0.000000          0.000000       0.000000   \n",
       "25%         0.035900       0.033800          0.000000       0.096200   \n",
       "50%         0.047100       0.262000          0.001090       0.121000   \n",
       "75%         0.082200       0.754000          0.645000       0.227000   \n",
       "max         0.965000       0.996000          1.000000       1.000000   \n",
       "\n",
       "             valence          tempo     spec_rate         labels  \n",
       "count  277938.000000  277938.000000  2.779380e+05  277938.000000  \n",
       "mean        0.449602     119.196002  4.754688e-07       1.179101  \n",
       "std         0.267471      30.462256  9.191077e-07       1.021033  \n",
       "min         0.000000       0.000000  0.000000e+00       0.000000  \n",
       "25%         0.220000      95.072250  1.530000e-07       0.000000  \n",
       "50%         0.434000     119.940000  2.350000e-07       1.000000  \n",
       "75%         0.665000     138.869750  4.450000e-07       2.000000  \n",
       "max         1.000000     244.947000  5.970000e-05       3.000000  "
      ]
     },
     "execution_count": 6,
     "metadata": {},
     "output_type": "execute_result"
    }
   ],
   "source": [
    "df.describe()"
   ]
  },
  {
   "cell_type": "code",
   "execution_count": 7,
   "id": "45cb82fc",
   "metadata": {},
   "outputs": [
    {
     "data": {
      "text/plain": [
       "<Axes: >"
      ]
     },
     "execution_count": 7,
     "metadata": {},
     "output_type": "execute_result"
    },
    {
     "data": {
      "image/png": "[encoded data removed]",
      "text/plain": [
       "<Figure size 1200x600 with 2 Axes>"
      ]
     },
     "metadata": {},
     "output_type": "display_data"
    }
   ],
   "source": [
    "plt.figure(figsize=(12,6))\n",
    "sns.set_context('paper',font_scale=1.4)\n",
    "corr_matrix=df.corr()\n",
    "sns.heatmap(corr_matrix,annot=True,cmap='RdYlGn')"
   ]
  },
  {
   "cell_type": "code",
   "execution_count": 8,
   "id": "9f3090b4",
   "metadata": {
    "scrolled": true
   },
   "outputs": [
    {
     "data": {
      "text/html": [
       "<div>\n",
       "<style scoped>\n",
       "    .dataframe tbody tr th:only-of-type {\n",
       "        vertical-align: middle;\n",
       "    }\n",
       "\n",
       "    .dataframe tbody tr th {\n",
       "        vertical-align: top;\n",
       "    }\n",
       "\n",
       "    .dataframe thead th {\n",
       "        text-align: right;\n",
       "    }\n",
       "</style>\n",
       "<table border=\"1\" class=\"dataframe\">\n",
       "  <thead>\n",
       "    <tr style=\"text-align: right;\">\n",
       "      <th></th>\n",
       "      <th>duration (ms)</th>\n",
       "      <th>danceability</th>\n",
       "      <th>energy</th>\n",
       "      <th>loudness</th>\n",
       "      <th>speechiness</th>\n",
       "      <th>acousticness</th>\n",
       "      <th>instrumentalness</th>\n",
       "      <th>liveness</th>\n",
       "      <th>valence</th>\n",
       "      <th>tempo</th>\n",
       "      <th>spec_rate</th>\n",
       "      <th>labels</th>\n",
       "    </tr>\n",
       "  </thead>\n",
       "  <tbody>\n",
       "    <tr>\n",
       "      <th>duration (ms)</th>\n",
       "      <td>1.000000</td>\n",
       "      <td>-0.104900</td>\n",
       "      <td>0.037770</td>\n",
       "      <td>0.012820</td>\n",
       "      <td>-0.036197</td>\n",
       "      <td>-0.064319</td>\n",
       "      <td>0.042721</td>\n",
       "      <td>0.031416</td>\n",
       "      <td>-0.106144</td>\n",
       "      <td>0.004152</td>\n",
       "      <td>-0.210130</td>\n",
       "      <td>-0.114558</td>\n",
       "    </tr>\n",
       "    <tr>\n",
       "      <th>danceability</th>\n",
       "      <td>-0.104900</td>\n",
       "      <td>1.000000</td>\n",
       "      <td>0.303897</td>\n",
       "      <td>0.414604</td>\n",
       "      <td>0.191194</td>\n",
       "      <td>-0.330091</td>\n",
       "      <td>-0.274751</td>\n",
       "      <td>-0.060570</td>\n",
       "      <td>0.521399</td>\n",
       "      <td>0.032550</td>\n",
       "      <td>0.134470</td>\n",
       "      <td>-0.229390</td>\n",
       "    </tr>\n",
       "    <tr>\n",
       "      <th>energy</th>\n",
       "      <td>0.037770</td>\n",
       "      <td>0.303897</td>\n",
       "      <td>1.000000</td>\n",
       "      <td>0.802642</td>\n",
       "      <td>0.144617</td>\n",
       "      <td>-0.779596</td>\n",
       "      <td>-0.361357</td>\n",
       "      <td>0.234200</td>\n",
       "      <td>0.391237</td>\n",
       "      <td>0.267519</td>\n",
       "      <td>0.053827</td>\n",
       "      <td>-0.048570</td>\n",
       "    </tr>\n",
       "    <tr>\n",
       "      <th>loudness</th>\n",
       "      <td>0.012820</td>\n",
       "      <td>0.414604</td>\n",
       "      <td>0.802642</td>\n",
       "      <td>1.000000</td>\n",
       "      <td>0.092848</td>\n",
       "      <td>-0.663215</td>\n",
       "      <td>-0.541662</td>\n",
       "      <td>0.133346</td>\n",
       "      <td>0.392798</td>\n",
       "      <td>0.244641</td>\n",
       "      <td>0.010416</td>\n",
       "      <td>-0.309437</td>\n",
       "    </tr>\n",
       "    <tr>\n",
       "      <th>speechiness</th>\n",
       "      <td>-0.036197</td>\n",
       "      <td>0.191194</td>\n",
       "      <td>0.144617</td>\n",
       "      <td>0.092848</td>\n",
       "      <td>1.000000</td>\n",
       "      <td>-0.083095</td>\n",
       "      <td>-0.167207</td>\n",
       "      <td>0.200167</td>\n",
       "      <td>0.080731</td>\n",
       "      <td>0.027930</td>\n",
       "      <td>0.751062</td>\n",
       "      <td>-0.006543</td>\n",
       "    </tr>\n",
       "    <tr>\n",
       "      <th>acousticness</th>\n",
       "      <td>-0.064319</td>\n",
       "      <td>-0.330091</td>\n",
       "      <td>-0.779596</td>\n",
       "      <td>-0.663215</td>\n",
       "      <td>-0.083095</td>\n",
       "      <td>1.000000</td>\n",
       "      <td>0.332768</td>\n",
       "      <td>-0.117062</td>\n",
       "      <td>-0.267692</td>\n",
       "      <td>-0.234832</td>\n",
       "      <td>-0.010131</td>\n",
       "      <td>0.053265</td>\n",
       "    </tr>\n",
       "    <tr>\n",
       "      <th>instrumentalness</th>\n",
       "      <td>0.042721</td>\n",
       "      <td>-0.274751</td>\n",
       "      <td>-0.361357</td>\n",
       "      <td>-0.541662</td>\n",
       "      <td>-0.167207</td>\n",
       "      <td>0.332768</td>\n",
       "      <td>1.000000</td>\n",
       "      <td>-0.116973</td>\n",
       "      <td>-0.345532</td>\n",
       "      <td>-0.112559</td>\n",
       "      <td>-0.092946</td>\n",
       "      <td>0.541494</td>\n",
       "    </tr>\n",
       "    <tr>\n",
       "      <th>liveness</th>\n",
       "      <td>0.031416</td>\n",
       "      <td>-0.060570</td>\n",
       "      <td>0.234200</td>\n",
       "      <td>0.133346</td>\n",
       "      <td>0.200167</td>\n",
       "      <td>-0.117062</td>\n",
       "      <td>-0.116973</td>\n",
       "      <td>1.000000</td>\n",
       "      <td>0.045150</td>\n",
       "      <td>0.031481</td>\n",
       "      <td>0.154280</td>\n",
       "      <td>-0.019369</td>\n",
       "    </tr>\n",
       "    <tr>\n",
       "      <th>valence</th>\n",
       "      <td>-0.106144</td>\n",
       "      <td>0.521399</td>\n",
       "      <td>0.391237</td>\n",
       "      <td>0.392798</td>\n",
       "      <td>0.080731</td>\n",
       "      <td>-0.267692</td>\n",
       "      <td>-0.345532</td>\n",
       "      <td>0.045150</td>\n",
       "      <td>1.000000</td>\n",
       "      <td>0.141085</td>\n",
       "      <td>0.062021</td>\n",
       "      <td>-0.182134</td>\n",
       "    </tr>\n",
       "    <tr>\n",
       "      <th>tempo</th>\n",
       "      <td>0.004152</td>\n",
       "      <td>0.032550</td>\n",
       "      <td>0.267519</td>\n",
       "      <td>0.244641</td>\n",
       "      <td>0.027930</td>\n",
       "      <td>-0.234832</td>\n",
       "      <td>-0.112559</td>\n",
       "      <td>0.031481</td>\n",
       "      <td>0.141085</td>\n",
       "      <td>1.000000</td>\n",
       "      <td>0.005412</td>\n",
       "      <td>-0.004499</td>\n",
       "    </tr>\n",
       "    <tr>\n",
       "      <th>spec_rate</th>\n",
       "      <td>-0.210130</td>\n",
       "      <td>0.134470</td>\n",
       "      <td>0.053827</td>\n",
       "      <td>0.010416</td>\n",
       "      <td>0.751062</td>\n",
       "      <td>-0.010131</td>\n",
       "      <td>-0.092946</td>\n",
       "      <td>0.154280</td>\n",
       "      <td>0.062021</td>\n",
       "      <td>0.005412</td>\n",
       "      <td>1.000000</td>\n",
       "      <td>0.012006</td>\n",
       "    </tr>\n",
       "    <tr>\n",
       "      <th>labels</th>\n",
       "      <td>-0.114558</td>\n",
       "      <td>-0.229390</td>\n",
       "      <td>-0.048570</td>\n",
       "      <td>-0.309437</td>\n",
       "      <td>-0.006543</td>\n",
       "      <td>0.053265</td>\n",
       "      <td>0.541494</td>\n",
       "      <td>-0.019369</td>\n",
       "      <td>-0.182134</td>\n",
       "      <td>-0.004499</td>\n",
       "      <td>0.012006</td>\n",
       "      <td>1.000000</td>\n",
       "    </tr>\n",
       "  </tbody>\n",
       "</table>\n",
       "</div>"
      ],
      "text/plain": [
       "                  duration (ms)  danceability    energy  loudness   \n",
       "duration (ms)          1.000000     -0.104900  0.037770  0.012820  \\\n",
       "danceability          -0.104900      1.000000  0.303897  0.414604   \n",
       "energy                 0.037770      0.303897  1.000000  0.802642   \n",
       "loudness               0.012820      0.414604  0.802642  1.000000   \n",
       "speechiness           -0.036197      0.191194  0.144617  0.092848   \n",
       "acousticness          -0.064319     -0.330091 -0.779596 -0.663215   \n",
       "instrumentalness       0.042721     -0.274751 -0.361357 -0.541662   \n",
       "liveness               0.031416     -0.060570  0.234200  0.133346   \n",
       "valence               -0.106144      0.521399  0.391237  0.392798   \n",
       "tempo                  0.004152      0.032550  0.267519  0.244641   \n",
       "spec_rate             -0.210130      0.134470  0.053827  0.010416   \n",
       "labels                -0.114558     -0.229390 -0.048570 -0.309437   \n",
       "\n",
       "                  speechiness  acousticness  instrumentalness  liveness   \n",
       "duration (ms)       -0.036197     -0.064319          0.042721  0.031416  \\\n",
       "danceability         0.191194     -0.330091         -0.274751 -0.060570   \n",
       "energy               0.144617     -0.779596         -0.361357  0.234200   \n",
       "loudness             0.092848     -0.663215         -0.541662  0.133346   \n",
       "speechiness          1.000000     -0.083095         -0.167207  0.200167   \n",
       "acousticness        -0.083095      1.000000          0.332768 -0.117062   \n",
       "instrumentalness    -0.167207      0.332768          1.000000 -0.116973   \n",
       "liveness             0.200167     -0.117062         -0.116973  1.000000   \n",
       "valence              0.080731     -0.267692         -0.345532  0.045150   \n",
       "tempo                0.027930     -0.234832         -0.112559  0.031481   \n",
       "spec_rate            0.751062     -0.010131         -0.092946  0.154280   \n",
       "labels              -0.006543      0.053265          0.541494 -0.019369   \n",
       "\n",
       "                   valence     tempo  spec_rate    labels  \n",
       "duration (ms)    -0.106144  0.004152  -0.210130 -0.114558  \n",
       "danceability      0.521399  0.032550   0.134470 -0.229390  \n",
       "energy            0.391237  0.267519   0.053827 -0.048570  \n",
       "loudness          0.392798  0.244641   0.010416 -0.309437  \n",
       "speechiness       0.080731  0.027930   0.751062 -0.006543  \n",
       "acousticness     -0.267692 -0.234832  -0.010131  0.053265  \n",
       "instrumentalness -0.345532 -0.112559  -0.092946  0.541494  \n",
       "liveness          0.045150  0.031481   0.154280 -0.019369  \n",
       "valence           1.000000  0.141085   0.062021 -0.182134  \n",
       "tempo             0.141085  1.000000   0.005412 -0.004499  \n",
       "spec_rate         0.062021  0.005412   1.000000  0.012006  \n",
       "labels           -0.182134 -0.004499   0.012006  1.000000  "
      ]
     },
     "execution_count": 8,
     "metadata": {},
     "output_type": "execute_result"
    }
   ],
   "source": [
    "df.corr()"
   ]
  },
  {
   "cell_type": "code",
   "execution_count": 9,
   "id": "0a7dbe80",
   "metadata": {},
   "outputs": [
    {
     "data": {
      "text/html": [
       "<div>\n",
       "<style scoped>\n",
       "    .dataframe tbody tr th:only-of-type {\n",
       "        vertical-align: middle;\n",
       "    }\n",
       "\n",
       "    .dataframe tbody tr th {\n",
       "        vertical-align: top;\n",
       "    }\n",
       "\n",
       "    .dataframe thead th {\n",
       "        text-align: right;\n",
       "    }\n",
       "</style>\n",
       "<table border=\"1\" class=\"dataframe\">\n",
       "  <thead>\n",
       "    <tr style=\"text-align: right;\">\n",
       "      <th></th>\n",
       "      <th>danceability</th>\n",
       "      <th>energy</th>\n",
       "      <th>loudness</th>\n",
       "      <th>speechiness</th>\n",
       "      <th>acousticness</th>\n",
       "      <th>instrumentalness</th>\n",
       "      <th>liveness</th>\n",
       "      <th>valence</th>\n",
       "      <th>tempo</th>\n",
       "      <th>spec_rate</th>\n",
       "      <th>labels</th>\n",
       "    </tr>\n",
       "  </thead>\n",
       "  <tbody>\n",
       "    <tr>\n",
       "      <th>0</th>\n",
       "      <td>0.611</td>\n",
       "      <td>0.614</td>\n",
       "      <td>-8.815</td>\n",
       "      <td>0.0672</td>\n",
       "      <td>0.0169</td>\n",
       "      <td>0.000794</td>\n",
       "      <td>0.7530</td>\n",
       "      <td>0.520</td>\n",
       "      <td>128.050</td>\n",
       "      <td>3.450000e-07</td>\n",
       "      <td>2</td>\n",
       "    </tr>\n",
       "    <tr>\n",
       "      <th>1</th>\n",
       "      <td>0.638</td>\n",
       "      <td>0.781</td>\n",
       "      <td>-6.848</td>\n",
       "      <td>0.0285</td>\n",
       "      <td>0.0118</td>\n",
       "      <td>0.009530</td>\n",
       "      <td>0.3490</td>\n",
       "      <td>0.250</td>\n",
       "      <td>122.985</td>\n",
       "      <td>1.460000e-07</td>\n",
       "      <td>1</td>\n",
       "    </tr>\n",
       "    <tr>\n",
       "      <th>2</th>\n",
       "      <td>0.560</td>\n",
       "      <td>0.810</td>\n",
       "      <td>-8.029</td>\n",
       "      <td>0.0872</td>\n",
       "      <td>0.0071</td>\n",
       "      <td>0.000008</td>\n",
       "      <td>0.2410</td>\n",
       "      <td>0.247</td>\n",
       "      <td>170.044</td>\n",
       "      <td>4.010000e-07</td>\n",
       "      <td>1</td>\n",
       "    </tr>\n",
       "    <tr>\n",
       "      <th>3</th>\n",
       "      <td>0.525</td>\n",
       "      <td>0.699</td>\n",
       "      <td>-4.571</td>\n",
       "      <td>0.0353</td>\n",
       "      <td>0.0178</td>\n",
       "      <td>0.000088</td>\n",
       "      <td>0.0888</td>\n",
       "      <td>0.199</td>\n",
       "      <td>92.011</td>\n",
       "      <td>7.960000e-08</td>\n",
       "      <td>0</td>\n",
       "    </tr>\n",
       "    <tr>\n",
       "      <th>4</th>\n",
       "      <td>0.367</td>\n",
       "      <td>0.771</td>\n",
       "      <td>-5.863</td>\n",
       "      <td>0.1060</td>\n",
       "      <td>0.3650</td>\n",
       "      <td>0.000001</td>\n",
       "      <td>0.0965</td>\n",
       "      <td>0.163</td>\n",
       "      <td>115.917</td>\n",
       "      <td>4.690000e-07</td>\n",
       "      <td>1</td>\n",
       "    </tr>\n",
       "  </tbody>\n",
       "</table>\n",
       "</div>"
      ],
      "text/plain": [
       "   danceability  energy  loudness  speechiness  acousticness   \n",
       "0         0.611   0.614    -8.815       0.0672        0.0169  \\\n",
       "1         0.638   0.781    -6.848       0.0285        0.0118   \n",
       "2         0.560   0.810    -8.029       0.0872        0.0071   \n",
       "3         0.525   0.699    -4.571       0.0353        0.0178   \n",
       "4         0.367   0.771    -5.863       0.1060        0.3650   \n",
       "\n",
       "   instrumentalness  liveness  valence    tempo     spec_rate  labels  \n",
       "0          0.000794    0.7530    0.520  128.050  3.450000e-07       2  \n",
       "1          0.009530    0.3490    0.250  122.985  1.460000e-07       1  \n",
       "2          0.000008    0.2410    0.247  170.044  4.010000e-07       1  \n",
       "3          0.000088    0.0888    0.199   92.011  7.960000e-08       0  \n",
       "4          0.000001    0.0965    0.163  115.917  4.690000e-07       1  "
      ]
     },
     "execution_count": 9,
     "metadata": {},
     "output_type": "execute_result"
    }
   ],
   "source": [
    "df=df.drop(columns='duration (ms)')\n",
    "df.head()"
   ]
  },
  {
   "cell_type": "code",
   "execution_count": 10,
   "id": "1a22583d",
   "metadata": {},
   "outputs": [
    {
     "data": {
      "text/plain": [
       "array([2, 1, 0, 3], dtype=int64)"
      ]
     },
     "execution_count": 10,
     "metadata": {},
     "output_type": "execute_result"
    }
   ],
   "source": [
    "df['labels'].unique()"
   ]
  },
  {
   "cell_type": "code",
   "execution_count": 11,
   "id": "29528658",
   "metadata": {},
   "outputs": [],
   "source": [
    "df1=df[(df['labels']!=2) & (df['labels']!=3)]"
   ]
  },
  {
   "cell_type": "code",
   "execution_count": 12,
   "id": "8245751a",
   "metadata": {},
   "outputs": [
    {
     "data": {
      "text/plain": [
       "array([1, 0], dtype=int64)"
      ]
     },
     "execution_count": 12,
     "metadata": {},
     "output_type": "execute_result"
    }
   ],
   "source": [
    "df1['labels'].unique()"
   ]
  },
  {
   "cell_type": "code",
   "execution_count": 13,
   "id": "3cf50aae",
   "metadata": {},
   "outputs": [
    {
     "data": {
      "text/plain": [
       "(188487, 11)"
      ]
     },
     "execution_count": 13,
     "metadata": {},
     "output_type": "execute_result"
    }
   ],
   "source": [
    "df1.shape"
   ]
  },
  {
   "cell_type": "code",
   "execution_count": 14,
   "id": "c9b01d86",
   "metadata": {},
   "outputs": [],
   "source": [
    "X=df1.iloc[:,:-1]\n",
    "y=df1.iloc[:,-1]"
   ]
  },
  {
   "cell_type": "code",
   "execution_count": 15,
   "id": "74df65a5",
   "metadata": {},
   "outputs": [],
   "source": [
    "X_train,X_test,y_train,y_test =train_test_split(X,y,test_size=0.3,random_state=42)"
   ]
  },
  {
   "cell_type": "code",
   "execution_count": 16,
   "id": "1a2bfdfe",
   "metadata": {},
   "outputs": [
    {
     "data": {
      "text/plain": [
       "(131940, 10)"
      ]
     },
     "execution_count": 16,
     "metadata": {},
     "output_type": "execute_result"
    }
   ],
   "source": [
    "X_train.shape"
   ]
  },
  {
   "cell_type": "code",
   "execution_count": 17,
   "id": "be4e2aa4",
   "metadata": {},
   "outputs": [
    {
     "data": {
      "text/plain": [
       "(56547, 10)"
      ]
     },
     "execution_count": 17,
     "metadata": {},
     "output_type": "execute_result"
    }
   ],
   "source": [
    "X_test.shape"
   ]
  },
  {
   "cell_type": "code",
   "execution_count": 18,
   "id": "23fc8a46",
   "metadata": {},
   "outputs": [],
   "source": [
    "scaler=StandardScaler()"
   ]
  },
  {
   "cell_type": "code",
   "execution_count": 19,
   "id": "ac6f46c0",
   "metadata": {},
   "outputs": [],
   "source": [
    "X_train_scaled=scaler.fit_transform(X_train)\n",
    "X_test_scaled=scaler.fit_transform(X_test)"
   ]
  },
  {
   "cell_type": "code",
   "execution_count": 20,
   "id": "c8ac7a5e",
   "metadata": {},
   "outputs": [
    {
     "data": {
      "text/plain": [
       "array([[-1.65217346e-01, -1.55142861e-01,  2.49572032e-02, ...,\n",
       "        -5.20599438e-01,  1.00313580e-01, -3.73445411e-01],\n",
       "       [-1.23530783e-01, -7.86459866e-01, -4.97919847e-04, ...,\n",
       "        -3.23143931e-01, -9.29935781e-01, -3.26725380e-01],\n",
       "       [-4.86799400e-01,  1.17980099e-01,  7.16832033e-01, ...,\n",
       "        -6.01904647e-01,  5.11749324e-01,  7.50755334e-01],\n",
       "       ...,\n",
       "       [ 7.10200468e-01, -6.55943496e-02, -7.32275375e-01, ...,\n",
       "        -2.88298842e-01,  5.49518546e-02, -3.78312081e-01],\n",
       "       [ 3.40976628e-01,  1.13435570e+00,  5.84740584e-01, ...,\n",
       "         6.75748633e-01, -2.47413053e-01, -3.64685405e-01],\n",
       "       [-1.65997837e+00, -1.99536477e+00, -6.80677153e-01, ...,\n",
       "        -1.76805364e+00,  4.61599804e-01, -3.53005398e-01]])"
      ]
     },
     "execution_count": 20,
     "metadata": {},
     "output_type": "execute_result"
    }
   ],
   "source": [
    "X_train_scaled"
   ]
  },
  {
   "cell_type": "code",
   "execution_count": 21,
   "id": "11ecb505",
   "metadata": {},
   "outputs": [
    {
     "data": {
      "text/plain": [
       "array([[-2.56873052, -0.52569939, -0.055874  , ..., -1.80405519,\n",
       "         0.05465372, -0.4403292 ],\n",
       "       [-0.34860049, -0.95553239, -0.87195292, ...,  0.00961253,\n",
       "        -1.29582155, -0.22115299],\n",
       "       [-0.24686946, -0.47197026, -1.09433155, ...,  1.09951977,\n",
       "         0.54673143, -0.13692978],\n",
       "       ...,\n",
       "       [ 1.15941236, -0.09586638,  0.23556632, ...,  0.18415283,\n",
       "         1.72533184,  0.33315325],\n",
       "       [-1.04874931, -1.91817924, -0.77918006, ..., -0.64976196,\n",
       "         0.46541616, -0.3621779 ],\n",
       "       [-0.10923337,  1.50705255,  1.03806311, ...,  1.38266294,\n",
       "        -0.46407558, -0.34357044]])"
      ]
     },
     "execution_count": 21,
     "metadata": {},
     "output_type": "execute_result"
    }
   ],
   "source": [
    "X_test_scaled"
   ]
  },
  {
   "cell_type": "code",
   "execution_count": 22,
   "id": "1d9c3e35",
   "metadata": {},
   "outputs": [],
   "source": [
    "classifier=LogisticRegression(random_state=0).fit(X_train_scaled,y_train)"
   ]
  },
  {
   "cell_type": "code",
   "execution_count": 23,
   "id": "34b14fbc",
   "metadata": {},
   "outputs": [
    {
     "data": {
      "text/plain": [
       "array([0, 0, 0, ..., 1, 1, 0], dtype=int64)"
      ]
     },
     "execution_count": 23,
     "metadata": {},
     "output_type": "execute_result"
    }
   ],
   "source": [
    "classifier.predict(X_train_scaled)"
   ]
  },
  {
   "cell_type": "code",
   "execution_count": 24,
   "id": "71fc1717",
   "metadata": {},
   "outputs": [
    {
     "data": {
      "text/plain": [
       "array([0, 0, 0, ..., 1, 0, 1], dtype=int64)"
      ]
     },
     "execution_count": 24,
     "metadata": {},
     "output_type": "execute_result"
    }
   ],
   "source": [
    "predictions=classifier.predict(X_test_scaled)\n",
    "predictions"
   ]
  },
  {
   "cell_type": "code",
   "execution_count": 25,
   "id": "65b705da",
   "metadata": {},
   "outputs": [
    {
     "name": "stdout",
     "output_type": "stream",
     "text": [
      "              precision    recall  f1-score   support\n",
      "\n",
      "           0       0.88      0.85      0.86     24575\n",
      "           1       0.89      0.91      0.90     31972\n",
      "\n",
      "    accuracy                           0.88     56547\n",
      "   macro avg       0.88      0.88      0.88     56547\n",
      "weighted avg       0.88      0.88      0.88     56547\n",
      "\n"
     ]
    }
   ],
   "source": [
    "#Classification Report\n",
    "report = classification_report (y_test, predictions)\n",
    "print (report)"
   ]
  },
  {
   "cell_type": "code",
   "execution_count": 26,
   "id": "196857f3",
   "metadata": {},
   "outputs": [
    {
     "name": "stdout",
     "output_type": "stream",
     "text": [
      "[[20921  3654]\n",
      " [ 2946 29026]]\n"
     ]
    }
   ],
   "source": [
    "print (confusion_matrix (y_test, predictions))"
   ]
  },
  {
   "cell_type": "code",
   "execution_count": 27,
   "id": "4a400c32",
   "metadata": {},
   "outputs": [
    {
     "name": "stdout",
     "output_type": "stream",
     "text": [
      "Accuracy score: 0.8832829327815799\n"
     ]
    }
   ],
   "source": [
    "print(\"Accuracy score:\",accuracy_score(y_test, predictions))"
   ]
  },
  {
   "cell_type": "code",
   "execution_count": 28,
   "id": "e1192082",
   "metadata": {},
   "outputs": [
    {
     "data": {
      "text/plain": [
       "0.8843641048961649"
      ]
     },
     "execution_count": 28,
     "metadata": {},
     "output_type": "execute_result"
    }
   ],
   "source": [
    "classifier.score(X_train_scaled,y_train)"
   ]
  },
  {
   "cell_type": "code",
   "execution_count": 29,
   "id": "9dbf9960",
   "metadata": {},
   "outputs": [
    {
     "data": {
      "text/plain": [
       "0.8832829327815799"
      ]
     },
     "execution_count": 29,
     "metadata": {},
     "output_type": "execute_result"
    }
   ],
   "source": [
    "classifier.score(X_test_scaled,y_test)"
   ]
  },
  {
   "cell_type": "code",
   "execution_count": 30,
   "id": "1dd47ad4",
   "metadata": {},
   "outputs": [],
   "source": [
    "# IMPROVING MODEL"
   ]
  },
  {
   "cell_type": "code",
   "execution_count": 31,
   "id": "46741c58",
   "metadata": {},
   "outputs": [],
   "source": [
    "from sklearn.model_selection import GridSearchCV\n",
    "parameter={'penalty':['l1', 'l2', 'elasticnet'],'C':[1,2,3,4,5,6,10,20,40,50],'max_iter':[100,200,300]}"
   ]
  },
  {
   "cell_type": "code",
   "execution_count": 32,
   "id": "b001c63c",
   "metadata": {},
   "outputs": [],
   "source": [
    "classifier_regressor=GridSearchCV(classifier,param_grid=parameter,scoring='accuracy',cv=5)"
   ]
  },
  {
   "cell_type": "code",
   "execution_count": null,
   "id": "effa10f2",
   "metadata": {},
   "outputs": [],
   "source": [
    "classifier_regressor.fit(X_train_scaled,y_train)"
   ]
  },
  {
   "cell_type": "code",
   "execution_count": null,
   "id": "8fa8b64e",
   "metadata": {},
   "outputs": [],
   "source": [
    "# Best parameters by grid search cv\n",
    "print(classifier_regressor.best_params_)"
   ]
  },
  {
   "cell_type": "code",
   "execution_count": null,
   "id": "9f77c5a9",
   "metadata": {},
   "outputs": [],
   "source": [
    "print(classifier_regressor.best_score_)"
   ]
  },
  {
   "cell_type": "code",
   "execution_count": null,
   "id": "54c45a84",
   "metadata": {},
   "outputs": [],
   "source": [
    "#predictions again\n",
    "y_pred=classifier_regressor.predict(X_test_scaled)"
   ]
  },
  {
   "cell_type": "code",
   "execution_count": null,
   "id": "141122e9",
   "metadata": {},
   "outputs": [],
   "source": [
    "# accuracy score\n",
    "print(\"Accuracy score:\",accuracy_score(y_pred, y_test))"
   ]
  },
  {
   "cell_type": "code",
   "execution_count": null,
   "id": "064953bf",
   "metadata": {},
   "outputs": [],
   "source": [
    "print(classification_report(y_pred,y_test))"
   ]
  },
  {
   "cell_type": "code",
   "execution_count": null,
   "id": "4e40e163",
   "metadata": {},
   "outputs": [],
   "source": []
  },
  {
   "cell_type": "code",
   "execution_count": null,
   "id": "ee9ecafd",
   "metadata": {},
   "outputs": [],
   "source": [
    "#classifier1=LogisticRegression(random_state=0,C=1,fit_intercept=True,solver='saga').fit(X_train_scaled,y_train)"
   ]
  },
  {
   "cell_type": "code",
   "execution_count": null,
   "id": "b57d0730",
   "metadata": {},
   "outputs": [],
   "source": [
    "#classifier1.score(X_train_scaled,y_train)"
   ]
  },
  {
   "cell_type": "code",
   "execution_count": null,
   "id": "a8be5ad0",
   "metadata": {},
   "outputs": [],
   "source": [
    "#classifier1.score(X_test_scaled,y_test)"
   ]
  },
  {
   "cell_type": "code",
   "execution_count": null,
   "id": "b5a2a9c2",
   "metadata": {},
   "outputs": [],
   "source": [
    "#EDA\n",
    "#sns.pairplot(df1,hue='labels')"
   ]
  }
 ],
 "metadata": {
  "kernelspec": {
   "display_name": "Python 3 (ipykernel)",
   "language": "python",
   "name": "python3"
  },
  "language_info": {
   "codemirror_mode": {
    "name": "ipython",
    "version": 3
   },
   "file_extension": ".py",
   "mimetype": "text/x-python",
   "name": "python",
   "nbconvert_exporter": "python",
   "pygments_lexer": "ipython3",
   "version": "3.11.3"
  },
  "varInspector": {
   "cols": {
    "lenName": 16,
    "lenType": 16,
    "lenVar": 40
   },
   "kernels_config": {
    "python": {
     "delete_cmd_postfix": "",
     "delete_cmd_prefix": "del ",
     "library": "var_list.py",
     "varRefreshCmd": "print(var_dic_list())"
    },
    "r": {
     "delete_cmd_postfix": ") ",
     "delete_cmd_prefix": "rm(",
     "library": "var_list.r",
     "varRefreshCmd": "cat(var_dic_list()) "
    }
   },
   "types_to_exclude": [
    "module",
    "function",
    "builtin_function_or_method",
    "instance",
    "_Feature"
   ],
   "window_display": false
  }
 },
 "nbformat": 4,
 "nbformat_minor": 5
}
